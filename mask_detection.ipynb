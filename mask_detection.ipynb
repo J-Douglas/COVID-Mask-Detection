{
 "cells": [
  {
   "cell_type": "code",
   "execution_count": 1,
   "metadata": {},
   "outputs": [
    {
     "name": "stderr",
     "output_type": "stream",
     "text": [
      "Using TensorFlow backend.\n"
     ]
    }
   ],
   "source": [
    "import tensorflow as tf\n",
    "import numpy as np\n",
    "import pandas as pd\n",
    "import numpy as np\n",
    "from keras.models import Sequential\n",
    "from keras.layers import *\n",
    "from tensorflow.keras.preprocessing.image import ImageDataGenerator\n",
    "from keras.applications import ResNet50\n",
    "import os\n",
    "import cv2"
   ]
  },
  {
   "cell_type": "code",
   "execution_count": null,
   "metadata": {},
   "outputs": [],
   "source": [
    "### Organizing classes into training, validation, and test\n",
    "print(\"Organizing datasets\")\n",
    "masked_imgs = os.listdir('datasets/compiled/with_mask copy')\n",
    "no_mask_imgs = os.listdir('datasets/compiled/without_mask copy')\n",
    "\n",
    "i = 0\n",
    "for img in masked_imgs:\n",
    "\tif i < int(0.64*len(masked_imgs)):\n",
    "\t\tos.rename('datasets/compiled/with_mask copy/' + img, 'datasets/compiled/train/mask/' + img)\n",
    "\t\ti += 1\n",
    "\telif i < int(0.8*len(masked_imgs)):\n",
    "\t\tos.rename('datasets/compiled/with_mask copy/' + img, 'datasets/compiled/validation/mask/' + img)\n",
    "\t\ti += 1\n",
    "\telse:\n",
    "\t\tos.rename('datasets/compiled/with_mask copy/' + img, 'datasets/compiled/test/mask/' + img)\n",
    "\t\ti += 1\n",
    "\n",
    "j = 0\n",
    "for img in no_mask_imgs:\n",
    "\tif j < int(0.64*len(no_mask_imgs)):\n",
    "\t\tos.rename('datasets/compiled/without_mask copy/' + img,'datasets/compiled/train/no-mask/' + img)\n",
    "\t\tj += 1\n",
    "\telif j < int(0.8*len(no_mask_imgs)):\n",
    "\t\tos.rename('datasets/compiled/without_mask copy/' + img, 'datasets/compiled/validation/no-mask/' + img)\n",
    "\t\tj += 1\n",
    "\telse:\n",
    "\t\tos.rename('datasets/compiled/without_mask copy/' + img, 'datasets/compiled/test/no-mask/' + img)\n",
    "\t\tj += 1\n",
    "\n",
    "print(\"Images reorganized\")"
   ]
  },
  {
   "cell_type": "code",
   "execution_count": 2,
   "metadata": {},
   "outputs": [],
   "source": [
    "epochs = 20\n",
    "batch_size = 16"
   ]
  },
  {
   "cell_type": "code",
   "execution_count": 3,
   "metadata": {},
   "outputs": [],
   "source": [
    "train_datagen = ImageDataGenerator(\n",
    "    width_shift_range=0.3,\n",
    "    height_shift_range=0.3,\n",
    "    fill_mode=\"nearest\",\n",
    "    horizontal_flip=True,\n",
    "    vertical_flip=True,\n",
    "    rescale=1./255)\n",
    "\n",
    "validation_datagen = ImageDataGenerator(\n",
    "    width_shift_range=0.3,\n",
    "    height_shift_range=0.3,\n",
    "    fill_mode=\"nearest\",\n",
    "    horizontal_flip=True,\n",
    "    vertical_flip=True,\n",
    "    rescale=1./255)\n",
    "\n",
    "test_datagen = ImageDataGenerator(\n",
    "    width_shift_range=0.3,\n",
    "    height_shift_range=0.3,\n",
    "    fill_mode=\"nearest\",\n",
    "    horizontal_flip=True,\n",
    "    vertical_flip=True,\n",
    "    rescale=1./255)"
   ]
  },
  {
   "cell_type": "code",
   "execution_count": 4,
   "metadata": {},
   "outputs": [
    {
     "name": "stdout",
     "output_type": "stream",
     "text": [
      "Found 2206 images belonging to 2 classes.\n",
      "Found 552 images belonging to 2 classes.\n",
      "Found 1075 images belonging to 2 classes.\n"
     ]
    }
   ],
   "source": [
    "train_generator = train_datagen.flow_from_directory(\n",
    "        batch_size=batch_size,\n",
    "\t\tdirectory='datasets/compiled/train/',\n",
    "        target_size=(224, 224), \n",
    "        classes = ['mask','no-mask'],\n",
    "        class_mode='categorical')\n",
    "\n",
    "validation_generator = validation_datagen.flow_from_directory(\n",
    "        batch_size=batch_size,\n",
    "        directory='datasets/compiled/validation/',\n",
    "        target_size=(224, 224), \n",
    "        classes = ['mask','no-mask'],\n",
    "        class_mode='categorical')\n",
    "\n",
    "test_generator = test_datagen.flow_from_directory(\n",
    "\t\tbatch_size=batch_size,\n",
    "        directory='datasets/compiled/test/',\n",
    "        target_size=(224, 224), \n",
    "        classes = ['mask','no-mask'],\n",
    "        class_mode='categorical')"
   ]
  },
  {
   "cell_type": "code",
   "execution_count": 5,
   "metadata": {},
   "outputs": [],
   "source": [
    "### Pre-trained Model (ResNet50 trained on Imagenet)\n",
    "model = tf.keras.applications.ResNet50(include_top=False,weights='imagenet')"
   ]
  },
  {
   "cell_type": "code",
   "execution_count": 6,
   "metadata": {},
   "outputs": [],
   "source": [
    "# Transfer Learning\n",
    "for i in model.layers:\n",
    "  i.trainable = False"
   ]
  },
  {
   "cell_type": "code",
   "execution_count": 7,
   "metadata": {},
   "outputs": [],
   "source": [
    "global_avg = tf.keras.layers.GlobalAveragePooling2D()(model.output)\n",
    "drop_out = tf.keras.layers.Dropout(0.4)(global_avg)\n",
    "out = tf.keras.layers.Dense(2,activation='sigmoid')(drop_out)\n",
    "resnet = tf.keras.Model(inputs=[model.input],outputs=[out])"
   ]
  },
  {
   "cell_type": "code",
   "execution_count": 8,
   "metadata": {},
   "outputs": [],
   "source": [
    "resnet.compile(optimizer=tf.keras.optimizers.Adam(),loss=\"binary_crossentropy\",metrics=[\"accuracy\"])"
   ]
  },
  {
   "cell_type": "code",
   "execution_count": null,
   "metadata": {},
   "outputs": [
    {
     "name": "stdout",
     "output_type": "stream",
     "text": [
      "WARNING:tensorflow:From <ipython-input-9-1e26fc741cbb>:4: Model.fit_generator (from tensorflow.python.keras.engine.training) is deprecated and will be removed in a future version.\n",
      "Instructions for updating:\n",
      "Please use Model.fit, which supports generators.\n",
      "Epoch 1/20\n",
      "  3/138 [..............................] - ETA: 1:15 - loss: 0.7489 - accuracy: 0.4583"
     ]
    },
    {
     "name": "stderr",
     "output_type": "stream",
     "text": [
      "/opt/anaconda3/lib/python3.7/site-packages/PIL/Image.py:989: UserWarning: Palette images with Transparency expressed in bytes should be converted to RGBA images\n",
      "  \"Palette images with Transparency expressed in bytes should be \"\n"
     ]
    },
    {
     "name": "stdout",
     "output_type": "stream",
     "text": [
      "138/138 [==============================] - 164s 1s/step - loss: 0.7102 - accuracy: 0.5422 - val_loss: 0.6815 - val_accuracy: 0.5888\n",
      "Epoch 2/20\n",
      "136/138 [============================>.] - ETA: 2s - loss: 0.6904 - accuracy: 0.5570"
     ]
    }
   ],
   "source": [
    "history = resnet.fit_generator(\n",
    "    train_generator,\n",
    "    epochs=epochs,\n",
    "    validation_data=validation_generator\n",
    ")"
   ]
  },
  {
   "cell_type": "code",
   "execution_count": null,
   "metadata": {},
   "outputs": [],
   "source": [
    "face_clsfr=cv2.CascadeClassifier('haarcascade_frontalface_default.xml')"
   ]
  },
  {
   "cell_type": "code",
   "execution_count": null,
   "metadata": {},
   "outputs": [],
   "source": [
    "labels_dict={0:'without_mask',1:'with_mask'}\n",
    "color_dict={0:(0,0,255),1:(0,255,0)}\n",
    "\n",
    "size = 4\n",
    "cv2.namedWindow(\"COVID Mask Detection Video Feed\")\n",
    "webcam = cv2.VideoCapture(0) #Use camera 0\n",
    "\n",
    "# We load the xml file\n",
    "classifier = cv2.CascadeClassifier('haarcascade_frontalface_default.xml')\n",
    "\n",
    "while True:\n",
    "    rval, im = webcam.read()\n",
    "    im=cv2.flip(im,1,1) #Flip to act as a mirror\n",
    "    \n",
    "    # Resize the image to speed up detection\n",
    "    mini = cv2.resize(im, (im.shape[1] // size, im.shape[0] // size))\n",
    "\n",
    "    # detect MultiScale / faces \n",
    "    faces = classifier.detectMultiScale(mini)\n",
    "\n",
    "    # Draw rectangles around each face\n",
    "    for f in faces:\n",
    "        (x, y, w, h) = [v * size for v in f] #Scale the shapesize backup\n",
    "        #Save just the rectangle faces in SubRecFaces\n",
    "        face_img = im[y:y+h, x:x+w]\n",
    "        resized=cv2.resize(face_img,(150,150))\n",
    "        normalized=resized/255.0\n",
    "        reshaped=np.reshape(normalized,(1,150,150,3))\n",
    "        reshaped = np.vstack([reshaped])\n",
    "        result=resnet.predict(reshaped)\n",
    "        #print(result)\n",
    "        \n",
    "        label=np.argmax(result,axis=1)[0]\n",
    "      \n",
    "        cv2.rectangle(im,(x,y),(x+w,y+h),color_dict[label],2)\n",
    "        cv2.rectangle(im,(x,y-40),(x+w,y),color_dict[label],-1)\n",
    "        cv2.putText(im, labels_dict[label], (x, y-10),cv2.FONT_HERSHEY_SIMPLEX,0.8,(255,255,255),2)\n",
    "        \n",
    "    # Show the image\n",
    "    if im is not None:   \n",
    "        cv2.imshow('COVID Mask Detection Video Feed',   im)\n",
    "    key = cv2.waitKey(10)\n",
    "    # if Esc key is press then break out of the loop \n",
    "    if key == 27: #The Esc key\n",
    "        break\n",
    "# Stop video\n",
    "webcam.release()\n",
    "\n",
    "# Close all started windows\n",
    "cv2.destroyAllWindows()"
   ]
  }
 ],
 "metadata": {
  "kernelspec": {
   "display_name": "Python 3",
   "language": "python",
   "name": "python3"
  },
  "language_info": {
   "codemirror_mode": {
    "name": "ipython",
    "version": 3
   },
   "file_extension": ".py",
   "mimetype": "text/x-python",
   "name": "python",
   "nbconvert_exporter": "python",
   "pygments_lexer": "ipython3",
   "version": "3.7.4"
  }
 },
 "nbformat": 4,
 "nbformat_minor": 2
}
